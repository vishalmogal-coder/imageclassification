{
 "cells": [
  {
   "cell_type": "markdown",
   "metadata": {
    "colab_type": "text",
    "id": "3DR-eO17geWu"
   },
   "source": [
    "# Convolutional Neural Network"
   ]
  },
  {
   "cell_type": "markdown",
   "metadata": {
    "colab_type": "text",
    "id": "EMefrVPCg-60"
   },
   "source": [
    "### Importing the libraries"
   ]
  },
  {
   "cell_type": "code",
   "execution_count": 1,
   "metadata": {
    "colab": {
     "base_uri": "https://localhost:8080/",
     "height": 34
    },
    "colab_type": "code",
    "id": "sCV30xyVhFbE",
    "outputId": "c5c0bf90-dd5c-4318-91fd-43a379fd3780"
   },
   "outputs": [
    {
     "name": "stderr",
     "output_type": "stream",
     "text": [
      "Using TensorFlow backend.\n"
     ]
    }
   ],
   "source": [
    "import tensorflow as tf\n",
    "from keras.preprocessing.image import ImageDataGenerator"
   ]
  },
  {
   "cell_type": "code",
   "execution_count": 2,
   "metadata": {
    "colab": {
     "base_uri": "https://localhost:8080/",
     "height": 34
    },
    "colab_type": "code",
    "id": "FIleuCAjoFD8",
    "outputId": "cd57146e-b4dd-4fe0-a55a-a6688ef61f78"
   },
   "outputs": [
    {
     "data": {
      "text/plain": [
       "'2.2.0'"
      ]
     },
     "execution_count": 2,
     "metadata": {},
     "output_type": "execute_result"
    }
   ],
   "source": [
    "tf.__version__"
   ]
  },
  {
   "cell_type": "markdown",
   "metadata": {
    "colab_type": "text",
    "id": "oxQxCBWyoGPE"
   },
   "source": [
    "## Part 1 - Data Preprocessing"
   ]
  },
  {
   "cell_type": "markdown",
   "metadata": {
    "colab_type": "text",
    "id": "MvE-heJNo3GG"
   },
   "source": [
    "### Preprocessing the Training set"
   ]
  },
  {
   "cell_type": "code",
   "execution_count": 3,
   "metadata": {
    "colab": {},
    "colab_type": "code",
    "id": "0koUcJMJpEBD"
   },
   "outputs": [
    {
     "name": "stdout",
     "output_type": "stream",
     "text": [
      "Found 8000 images belonging to 2 classes.\n"
     ]
    }
   ],
   "source": [
    "train_datagen = ImageDataGenerator(rescale = 1./255,\n",
    "                                   shear_range = 0.2,\n",
    "                                   zoom_range = 0.2,\n",
    "                                   horizontal_flip = True)\n",
    "training_set = train_datagen.flow_from_directory('dataset/training_set',\n",
    "                                                 target_size = (64, 64),\n",
    "                                                 batch_size = 32,\n",
    "                                                 class_mode = 'binary')\n",
    "# for multiclass class_mode='categorical'"
   ]
  },
  {
   "cell_type": "markdown",
   "metadata": {
    "colab_type": "text",
    "id": "mrCMmGw9pHys"
   },
   "source": [
    "### Preprocessing the Test set"
   ]
  },
  {
   "cell_type": "code",
   "execution_count": 4,
   "metadata": {
    "colab": {},
    "colab_type": "code",
    "id": "SH4WzfOhpKc3"
   },
   "outputs": [
    {
     "name": "stdout",
     "output_type": "stream",
     "text": [
      "Found 2000 images belonging to 2 classes.\n"
     ]
    }
   ],
   "source": [
    "test_datagen = ImageDataGenerator(rescale = 1./255)\n",
    "test_set = test_datagen.flow_from_directory('dataset/test_set',\n",
    "                                            target_size = (64, 64),\n",
    "                                            batch_size = 32,\n",
    "                                            class_mode = 'binary')"
   ]
  },
  {
   "cell_type": "markdown",
   "metadata": {
    "colab_type": "text",
    "id": "af8O4l90gk7B"
   },
   "source": [
    "## Part 2 - Building the CNN"
   ]
  },
  {
   "cell_type": "markdown",
   "metadata": {
    "colab_type": "text",
    "id": "ces1gXY2lmoX"
   },
   "source": [
    "### Initialising the CNN"
   ]
  },
  {
   "cell_type": "code",
   "execution_count": 5,
   "metadata": {
    "colab": {},
    "colab_type": "code",
    "id": "SAUt4UMPlhLS"
   },
   "outputs": [],
   "source": [
    "cnn = tf.keras.models.Sequential()"
   ]
  },
  {
   "cell_type": "markdown",
   "metadata": {
    "colab_type": "text",
    "id": "u5YJj_XMl5LF"
   },
   "source": [
    "### Step 1 - Convolution"
   ]
  },
  {
   "cell_type": "code",
   "execution_count": 8,
   "metadata": {
    "colab": {},
    "colab_type": "code",
    "id": "0ldAGF05Vt_-"
   },
   "outputs": [],
   "source": [
    "#filters are feature detector kernelsize is size of the feature detector 3 mean 3*3 matrix\n",
    "#inputshape is size of image which we set to 64*64 previously and 3 mean its a color image RGB \n",
    "#For black and white inputshape will be [64,64,1]\n",
    "cnn.add(tf.keras.layers.Conv2D(filters=32, kernel_size=3, activation='relu', input_shape=[64, 64, 3]))"
   ]
  },
  {
   "cell_type": "markdown",
   "metadata": {
    "colab_type": "text",
    "id": "tf87FpvxmNOJ"
   },
   "source": [
    "### Step 2 - Pooling"
   ]
  },
  {
   "cell_type": "code",
   "execution_count": 9,
   "metadata": {
    "colab": {},
    "colab_type": "code",
    "id": "ncpqPl69mOac"
   },
   "outputs": [],
   "source": [
    "#poolsize define the size of pool set our input matrix that 2*2 matrix \n",
    "cnn.add(tf.keras.layers.MaxPool2D(pool_size=2, strides=2))"
   ]
  },
  {
   "cell_type": "markdown",
   "metadata": {
    "colab_type": "text",
    "id": "xaTOgD8rm4mU"
   },
   "source": [
    "### Adding a second convolutional layer"
   ]
  },
  {
   "cell_type": "code",
   "execution_count": 10,
   "metadata": {
    "colab": {},
    "colab_type": "code",
    "id": "i_-FZjn_m8gk"
   },
   "outputs": [],
   "source": [
    "cnn.add(tf.keras.layers.Conv2D(filters=32, kernel_size=3, activation='relu'))\n",
    "cnn.add(tf.keras.layers.MaxPool2D(pool_size=2, strides=2))"
   ]
  },
  {
   "cell_type": "markdown",
   "metadata": {
    "colab_type": "text",
    "id": "tmiEuvTunKfk"
   },
   "source": [
    "### Step 3 - Flattening"
   ]
  },
  {
   "cell_type": "code",
   "execution_count": 11,
   "metadata": {
    "colab": {},
    "colab_type": "code",
    "id": "6AZeOGCvnNZn"
   },
   "outputs": [],
   "source": [
    "#flatten layer now converted to one dimensional vector\n",
    "cnn.add(tf.keras.layers.Flatten())"
   ]
  },
  {
   "cell_type": "markdown",
   "metadata": {
    "colab_type": "text",
    "id": "dAoSECOm203v"
   },
   "source": [
    "### Step 4 - Full Connection"
   ]
  },
  {
   "cell_type": "code",
   "execution_count": 12,
   "metadata": {
    "colab": {},
    "colab_type": "code",
    "id": "8GtmUlLd26Nq"
   },
   "outputs": [],
   "source": [
    "cnn.add(tf.keras.layers.Dense(units=128, activation='relu'))\n",
    "#cnn.add(tf.keras.layers.Dense(units=128,activation='relu'))"
   ]
  },
  {
   "cell_type": "markdown",
   "metadata": {
    "colab_type": "text",
    "id": "yTldFvbX28Na"
   },
   "source": [
    "### Step 5 - Output Layer"
   ]
  },
  {
   "cell_type": "code",
   "execution_count": 13,
   "metadata": {
    "colab": {},
    "colab_type": "code",
    "id": "1p_Zj1Mc3Ko_"
   },
   "outputs": [],
   "source": [
    "cnn.add(tf.keras.layers.Dense(units=1, activation='sigmoid'))"
   ]
  },
  {
   "cell_type": "markdown",
   "metadata": {
    "colab_type": "text",
    "id": "D6XkI90snSDl"
   },
   "source": [
    "## Part 3 - Training the CNN"
   ]
  },
  {
   "cell_type": "markdown",
   "metadata": {
    "colab_type": "text",
    "id": "vfrFQACEnc6i"
   },
   "source": [
    "### Compiling the CNN"
   ]
  },
  {
   "cell_type": "code",
   "execution_count": 14,
   "metadata": {
    "colab": {},
    "colab_type": "code",
    "id": "NALksrNQpUlJ"
   },
   "outputs": [],
   "source": [
    "cnn.compile(optimizer = 'adam', loss = 'binary_crossentropy', metrics = ['accuracy'])"
   ]
  },
  {
   "cell_type": "markdown",
   "metadata": {
    "colab_type": "text",
    "id": "ehS-v3MIpX2h"
   },
   "source": [
    "### Training the CNN on the Training set and evaluating it on the Test set"
   ]
  },
  {
   "cell_type": "code",
   "execution_count": 15,
   "metadata": {
    "colab": {},
    "colab_type": "code",
    "id": "XUj1W4PJptta"
   },
   "outputs": [
    {
     "name": "stdout",
     "output_type": "stream",
     "text": [
      "Epoch 1/25\n",
      "250/250 [==============================] - 225s 900ms/step - loss: 0.6893 - accuracy: 0.5452 - val_loss: 0.6641 - val_accuracy: 0.6160\n",
      "Epoch 2/25\n",
      "250/250 [==============================] - 150s 599ms/step - loss: 0.6575 - accuracy: 0.6152 - val_loss: 0.6364 - val_accuracy: 0.6485\n",
      "Epoch 3/25\n",
      "250/250 [==============================] - 118s 473ms/step - loss: 0.6280 - accuracy: 0.6540 - val_loss: 0.6026 - val_accuracy: 0.6900\n",
      "Epoch 4/25\n",
      "250/250 [==============================] - 91s 365ms/step - loss: 0.6008 - accuracy: 0.6769 - val_loss: 0.6096 - val_accuracy: 0.6690\n",
      "Epoch 5/25\n",
      "250/250 [==============================] - 89s 355ms/step - loss: 0.5622 - accuracy: 0.7116 - val_loss: 0.5323 - val_accuracy: 0.7495\n",
      "Epoch 6/25\n",
      "250/250 [==============================] - 110s 441ms/step - loss: 0.5285 - accuracy: 0.7423 - val_loss: 0.5133 - val_accuracy: 0.7605\n",
      "Epoch 7/25\n",
      "250/250 [==============================] - 97s 389ms/step - loss: 0.5020 - accuracy: 0.7534 - val_loss: 0.4795 - val_accuracy: 0.7775\n",
      "Epoch 8/25\n",
      "250/250 [==============================] - 123s 492ms/step - loss: 0.4670 - accuracy: 0.7781 - val_loss: 0.5122 - val_accuracy: 0.7600\n",
      "Epoch 9/25\n",
      "250/250 [==============================] - 110s 438ms/step - loss: 0.4407 - accuracy: 0.7911 - val_loss: 0.4879 - val_accuracy: 0.7715\n",
      "Epoch 10/25\n",
      "250/250 [==============================] - 103s 411ms/step - loss: 0.4165 - accuracy: 0.8105 - val_loss: 0.4771 - val_accuracy: 0.7880\n",
      "Epoch 11/25\n",
      "250/250 [==============================] - 96s 382ms/step - loss: 0.3945 - accuracy: 0.8214 - val_loss: 0.4976 - val_accuracy: 0.7730\n",
      "Epoch 12/25\n",
      "250/250 [==============================] - 93s 371ms/step - loss: 0.3762 - accuracy: 0.8261 - val_loss: 0.4629 - val_accuracy: 0.7825\n",
      "Epoch 13/25\n",
      "250/250 [==============================] - 98s 392ms/step - loss: 0.3612 - accuracy: 0.8393 - val_loss: 0.4753 - val_accuracy: 0.7810\n",
      "Epoch 14/25\n",
      "250/250 [==============================] - 97s 386ms/step - loss: 0.3296 - accuracy: 0.8526 - val_loss: 0.4680 - val_accuracy: 0.7965\n",
      "Epoch 15/25\n",
      "250/250 [==============================] - 105s 422ms/step - loss: 0.3061 - accuracy: 0.8658 - val_loss: 0.5024 - val_accuracy: 0.7940\n",
      "Epoch 16/25\n",
      "250/250 [==============================] - 113s 452ms/step - loss: 0.2906 - accuracy: 0.8723 - val_loss: 0.5834 - val_accuracy: 0.7680\n",
      "Epoch 17/25\n",
      "250/250 [==============================] - 93s 373ms/step - loss: 0.2829 - accuracy: 0.8801 - val_loss: 0.4947 - val_accuracy: 0.7935\n",
      "Epoch 18/25\n",
      "250/250 [==============================] - 99s 395ms/step - loss: 0.2550 - accuracy: 0.8924 - val_loss: 0.5102 - val_accuracy: 0.8050\n",
      "Epoch 19/25\n",
      "250/250 [==============================] - 103s 413ms/step - loss: 0.2458 - accuracy: 0.8967 - val_loss: 0.5637 - val_accuracy: 0.7920\n",
      "Epoch 20/25\n",
      "250/250 [==============================] - 100s 399ms/step - loss: 0.2293 - accuracy: 0.9057 - val_loss: 0.5184 - val_accuracy: 0.8065\n",
      "Epoch 21/25\n",
      "250/250 [==============================] - 111s 444ms/step - loss: 0.2046 - accuracy: 0.9186 - val_loss: 0.5781 - val_accuracy: 0.7945\n",
      "Epoch 22/25\n",
      "250/250 [==============================] - 117s 468ms/step - loss: 0.2045 - accuracy: 0.9201 - val_loss: 0.6014 - val_accuracy: 0.8005\n",
      "Epoch 23/25\n",
      "250/250 [==============================] - 110s 441ms/step - loss: 0.1886 - accuracy: 0.9234 - val_loss: 0.5748 - val_accuracy: 0.8040\n",
      "Epoch 24/25\n",
      "250/250 [==============================] - 116s 464ms/step - loss: 0.1749 - accuracy: 0.9331 - val_loss: 0.5843 - val_accuracy: 0.8040\n",
      "Epoch 25/25\n",
      "250/250 [==============================] - 110s 441ms/step - loss: 0.1607 - accuracy: 0.9376 - val_loss: 0.6671 - val_accuracy: 0.8035\n"
     ]
    },
    {
     "data": {
      "text/plain": [
       "<tensorflow.python.keras.callbacks.History at 0x7f1ddb5909d0>"
      ]
     },
     "execution_count": 15,
     "metadata": {},
     "output_type": "execute_result"
    }
   ],
   "source": [
    "cnn.fit(x = training_set, validation_data = test_set, epochs = 25)"
   ]
  },
  {
   "cell_type": "markdown",
   "metadata": {
    "colab_type": "text",
    "id": "U3PZasO0006Z"
   },
   "source": [
    "## Part 4 - Making a single prediction"
   ]
  },
  {
   "cell_type": "code",
   "execution_count": 26,
   "metadata": {
    "colab": {},
    "colab_type": "code",
    "id": "gsSiWEJY1BPB"
   },
   "outputs": [],
   "source": [
    "import numpy as np\n",
    "from keras.preprocessing import image\n",
    "test_image = image.load_img('dataset/single_prediction/cat_or_dog_3.jpg', target_size = (64, 64))\n",
    "#img_to_array will convert an image to 2d array\n",
    "test_image = image.img_to_array(test_image)\n",
    "#np.expand_dims will add extra dimension for the batch will we used in prepocessing\n",
    "#batch_size is extra dimesion add in precossing\n",
    "#we set these dimension to very begininng so axis set to zero\n",
    "test_image = np.expand_dims(test_image, axis = 0)\n",
    "result = cnn.predict(test_image)\n",
    "training_set.class_indices\n",
    "#result produce also in batch first [0] represent the batch and [0] element inside the batch\n",
    "if result[0][0] == 1:\n",
    "  prediction = 'dog'\n",
    "else:\n",
    "  prediction = 'cat'"
   ]
  },
  {
   "cell_type": "code",
   "execution_count": 27,
   "metadata": {
    "colab": {},
    "colab_type": "code",
    "id": "ED9KB3I54c1i"
   },
   "outputs": [
    {
     "name": "stdout",
     "output_type": "stream",
     "text": [
      "cat\n"
     ]
    }
   ],
   "source": [
    "print(prediction)"
   ]
  },
  {
   "cell_type": "code",
   "execution_count": 28,
   "metadata": {},
   "outputs": [
    {
     "data": {
      "text/plain": [
       "{'cats': 0, 'dogs': 1}"
      ]
     },
     "execution_count": 28,
     "metadata": {},
     "output_type": "execute_result"
    }
   ],
   "source": [
    "training_set.class_indices"
   ]
  },
  {
   "cell_type": "code",
   "execution_count": null,
   "metadata": {},
   "outputs": [],
   "source": []
  }
 ],
 "metadata": {
  "colab": {
   "collapsed_sections": [],
   "name": "Copy of convolutional_neural_network.ipynb",
   "provenance": [],
   "toc_visible": true
  },
  "kernelspec": {
   "display_name": "Python 3",
   "language": "python",
   "name": "python3"
  },
  "language_info": {
   "codemirror_mode": {
    "name": "ipython",
    "version": 3
   },
   "file_extension": ".py",
   "mimetype": "text/x-python",
   "name": "python",
   "nbconvert_exporter": "python",
   "pygments_lexer": "ipython3",
   "version": "3.7.6"
  }
 },
 "nbformat": 4,
 "nbformat_minor": 1
}
